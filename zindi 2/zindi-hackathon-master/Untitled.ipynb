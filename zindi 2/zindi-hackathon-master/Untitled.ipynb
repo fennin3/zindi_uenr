{
 "cells": [
  {
   "cell_type": "code",
   "execution_count": 482,
   "metadata": {},
   "outputs": [],
   "source": [
    "from pyforest import *"
   ]
  },
  {
   "cell_type": "code",
   "execution_count": 483,
   "metadata": {},
   "outputs": [],
   "source": [
    "df = pd.read_csv('Train.csv')"
   ]
  },
  {
   "cell_type": "code",
   "execution_count": 484,
   "metadata": {},
   "outputs": [
    {
     "data": {
      "text/html": [
       "<div>\n",
       "<style scoped>\n",
       "    .dataframe tbody tr th:only-of-type {\n",
       "        vertical-align: middle;\n",
       "    }\n",
       "\n",
       "    .dataframe tbody tr th {\n",
       "        vertical-align: top;\n",
       "    }\n",
       "\n",
       "    .dataframe thead th {\n",
       "        text-align: right;\n",
       "    }\n",
       "</style>\n",
       "<table border=\"1\" class=\"dataframe\">\n",
       "  <thead>\n",
       "    <tr style=\"text-align: right;\">\n",
       "      <th></th>\n",
       "      <th>date</th>\n",
       "      <th>acc</th>\n",
       "      <th>PID</th>\n",
       "    </tr>\n",
       "  </thead>\n",
       "  <tbody>\n",
       "    <tr>\n",
       "      <th>0</th>\n",
       "      <td>2019-12-13 11:38:33.226</td>\n",
       "      <td>256787571627</td>\n",
       "      <td>80G0</td>\n",
       "    </tr>\n",
       "    <tr>\n",
       "      <th>1</th>\n",
       "      <td>2019-11-12 11:46:23.755</td>\n",
       "      <td>256789598703</td>\n",
       "      <td>WLIW</td>\n",
       "    </tr>\n",
       "    <tr>\n",
       "      <th>2</th>\n",
       "      <td>2019-11-10 06:12:27.728</td>\n",
       "      <td>256753510223</td>\n",
       "      <td>U1DD</td>\n",
       "    </tr>\n",
       "    <tr>\n",
       "      <th>3</th>\n",
       "      <td>2019-12-20 13:34:17.453</td>\n",
       "      <td>256702652564</td>\n",
       "      <td>T0LZ</td>\n",
       "    </tr>\n",
       "    <tr>\n",
       "      <th>4</th>\n",
       "      <td>2019-11-15 09:16:06.591</td>\n",
       "      <td>256704005298</td>\n",
       "      <td>80G0</td>\n",
       "    </tr>\n",
       "  </tbody>\n",
       "</table>\n",
       "</div>"
      ],
      "text/plain": [
       "                      date           acc   PID\n",
       "0  2019-12-13 11:38:33.226  256787571627  80G0\n",
       "1  2019-11-12 11:46:23.755  256789598703  WLIW\n",
       "2  2019-11-10 06:12:27.728  256753510223  U1DD\n",
       "3  2019-12-20 13:34:17.453  256702652564  T0LZ\n",
       "4  2019-11-15 09:16:06.591  256704005298  80G0"
      ]
     },
     "execution_count": 484,
     "metadata": {},
     "output_type": "execute_result"
    }
   ],
   "source": [
    "df.head()"
   ]
  },
  {
   "cell_type": "code",
   "execution_count": 485,
   "metadata": {},
   "outputs": [
    {
     "data": {
      "text/plain": [
       "WLIW    27047\n",
       "80G0    11906\n",
       "U1DD     8617\n",
       "DJGS     4610\n",
       "T0LZ     3825\n",
       "6Q4Z     3318\n",
       "3USE     2834\n",
       "P7R7      770\n",
       "CPEH      736\n",
       "5YR6      699\n",
       "Q9SJ      672\n",
       "49DG      300\n",
       "2F3O      283\n",
       "0ZFO      166\n",
       "T2MU      164\n",
       "93AI      111\n",
       "YEPH       92\n",
       "ZDTG       67\n",
       "7IPS       47\n",
       "P4IQ       33\n",
       "5OH5       31\n",
       "YDAG       30\n",
       "8DYO       28\n",
       "PNYC       20\n",
       "B5DH       18\n",
       "G1PD       18\n",
       "FXJ0       18\n",
       "AWYV       12\n",
       "UE6G       11\n",
       "HQ1F       11\n",
       "XGSZ        6\n",
       "WZF8        5\n",
       "NFDD        5\n",
       "AIT3        4\n",
       "Name: PID, dtype: int64"
      ]
     },
     "execution_count": 485,
     "metadata": {},
     "output_type": "execute_result"
    }
   ],
   "source": [
    "df.PID.value_counts()"
   ]
  },
  {
   "cell_type": "code",
   "execution_count": 486,
   "metadata": {},
   "outputs": [],
   "source": [
    "df['label'] = 1"
   ]
  },
  {
   "cell_type": "code",
   "execution_count": 487,
   "metadata": {},
   "outputs": [
    {
     "data": {
      "text/html": [
       "<div>\n",
       "<style scoped>\n",
       "    .dataframe tbody tr th:only-of-type {\n",
       "        vertical-align: middle;\n",
       "    }\n",
       "\n",
       "    .dataframe tbody tr th {\n",
       "        vertical-align: top;\n",
       "    }\n",
       "\n",
       "    .dataframe thead th {\n",
       "        text-align: right;\n",
       "    }\n",
       "</style>\n",
       "<table border=\"1\" class=\"dataframe\">\n",
       "  <thead>\n",
       "    <tr style=\"text-align: right;\">\n",
       "      <th></th>\n",
       "      <th>date</th>\n",
       "      <th>acc</th>\n",
       "      <th>PID</th>\n",
       "      <th>label</th>\n",
       "    </tr>\n",
       "  </thead>\n",
       "  <tbody>\n",
       "    <tr>\n",
       "      <th>0</th>\n",
       "      <td>2019-12-13 11:38:33.226</td>\n",
       "      <td>256787571627</td>\n",
       "      <td>80G0</td>\n",
       "      <td>1</td>\n",
       "    </tr>\n",
       "    <tr>\n",
       "      <th>1</th>\n",
       "      <td>2019-11-12 11:46:23.755</td>\n",
       "      <td>256789598703</td>\n",
       "      <td>WLIW</td>\n",
       "      <td>1</td>\n",
       "    </tr>\n",
       "    <tr>\n",
       "      <th>2</th>\n",
       "      <td>2019-11-10 06:12:27.728</td>\n",
       "      <td>256753510223</td>\n",
       "      <td>U1DD</td>\n",
       "      <td>1</td>\n",
       "    </tr>\n",
       "    <tr>\n",
       "      <th>3</th>\n",
       "      <td>2019-12-20 13:34:17.453</td>\n",
       "      <td>256702652564</td>\n",
       "      <td>T0LZ</td>\n",
       "      <td>1</td>\n",
       "    </tr>\n",
       "    <tr>\n",
       "      <th>4</th>\n",
       "      <td>2019-11-15 09:16:06.591</td>\n",
       "      <td>256704005298</td>\n",
       "      <td>80G0</td>\n",
       "      <td>1</td>\n",
       "    </tr>\n",
       "  </tbody>\n",
       "</table>\n",
       "</div>"
      ],
      "text/plain": [
       "                      date           acc   PID  label\n",
       "0  2019-12-13 11:38:33.226  256787571627  80G0      1\n",
       "1  2019-11-12 11:46:23.755  256789598703  WLIW      1\n",
       "2  2019-11-10 06:12:27.728  256753510223  U1DD      1\n",
       "3  2019-12-20 13:34:17.453  256702652564  T0LZ      1\n",
       "4  2019-11-15 09:16:06.591  256704005298  80G0      1"
      ]
     },
     "execution_count": 487,
     "metadata": {},
     "output_type": "execute_result"
    }
   ],
   "source": [
    "df.head()"
   ]
  },
  {
   "cell_type": "code",
   "execution_count": 488,
   "metadata": {},
   "outputs": [],
   "source": [
    "from sklearn.preprocessing import LabelEncoder"
   ]
  },
  {
   "cell_type": "code",
   "execution_count": 489,
   "metadata": {},
   "outputs": [],
   "source": [
    "encoder = LabelEncoder()"
   ]
  },
  {
   "cell_type": "code",
   "execution_count": 490,
   "metadata": {},
   "outputs": [],
   "source": [
    "df['PID'] = encoder.fit_transform(df['PID'])\n",
    "df['acc'] = encoder.fit_transform(df['acc'])"
   ]
  },
  {
   "cell_type": "code",
   "execution_count": 491,
   "metadata": {},
   "outputs": [
    {
     "data": {
      "text/html": [
       "<div>\n",
       "<style scoped>\n",
       "    .dataframe tbody tr th:only-of-type {\n",
       "        vertical-align: middle;\n",
       "    }\n",
       "\n",
       "    .dataframe tbody tr th {\n",
       "        vertical-align: top;\n",
       "    }\n",
       "\n",
       "    .dataframe thead th {\n",
       "        text-align: right;\n",
       "    }\n",
       "</style>\n",
       "<table border=\"1\" class=\"dataframe\">\n",
       "  <thead>\n",
       "    <tr style=\"text-align: right;\">\n",
       "      <th></th>\n",
       "      <th>date</th>\n",
       "      <th>acc</th>\n",
       "      <th>PID</th>\n",
       "      <th>label</th>\n",
       "    </tr>\n",
       "  </thead>\n",
       "  <tbody>\n",
       "    <tr>\n",
       "      <th>0</th>\n",
       "      <td>2019-12-13 11:38:33.226</td>\n",
       "      <td>2384</td>\n",
       "      <td>8</td>\n",
       "      <td>1</td>\n",
       "    </tr>\n",
       "    <tr>\n",
       "      <th>1</th>\n",
       "      <td>2019-11-12 11:46:23.755</td>\n",
       "      <td>2522</td>\n",
       "      <td>28</td>\n",
       "      <td>1</td>\n",
       "    </tr>\n",
       "    <tr>\n",
       "      <th>2</th>\n",
       "      <td>2019-11-10 06:12:27.728</td>\n",
       "      <td>757</td>\n",
       "      <td>26</td>\n",
       "      <td>1</td>\n",
       "    </tr>\n",
       "    <tr>\n",
       "      <th>3</th>\n",
       "      <td>2019-12-20 13:34:17.453</td>\n",
       "      <td>230</td>\n",
       "      <td>24</td>\n",
       "      <td>1</td>\n",
       "    </tr>\n",
       "    <tr>\n",
       "      <th>4</th>\n",
       "      <td>2019-11-15 09:16:06.591</td>\n",
       "      <td>323</td>\n",
       "      <td>8</td>\n",
       "      <td>1</td>\n",
       "    </tr>\n",
       "  </tbody>\n",
       "</table>\n",
       "</div>"
      ],
      "text/plain": [
       "                      date   acc  PID  label\n",
       "0  2019-12-13 11:38:33.226  2384    8      1\n",
       "1  2019-11-12 11:46:23.755  2522   28      1\n",
       "2  2019-11-10 06:12:27.728   757   26      1\n",
       "3  2019-12-20 13:34:17.453   230   24      1\n",
       "4  2019-11-15 09:16:06.591   323    8      1"
      ]
     },
     "execution_count": 491,
     "metadata": {},
     "output_type": "execute_result"
    }
   ],
   "source": [
    "df.head()"
   ]
  },
  {
   "cell_type": "code",
   "execution_count": 492,
   "metadata": {},
   "outputs": [
    {
     "name": "stdout",
     "output_type": "stream",
     "text": [
      "<class 'pandas.core.frame.DataFrame'>\n",
      "RangeIndex: 66514 entries, 0 to 66513\n",
      "Data columns (total 4 columns):\n",
      " #   Column  Non-Null Count  Dtype \n",
      "---  ------  --------------  ----- \n",
      " 0   date    66514 non-null  object\n",
      " 1   acc     66514 non-null  int64 \n",
      " 2   PID     66514 non-null  int64 \n",
      " 3   label   66514 non-null  int64 \n",
      "dtypes: int64(3), object(1)\n",
      "memory usage: 2.0+ MB\n"
     ]
    }
   ],
   "source": [
    "df.info()"
   ]
  },
  {
   "cell_type": "code",
   "execution_count": 493,
   "metadata": {},
   "outputs": [],
   "source": [
    "df['date'] = pd.to_datetime(df['date'])"
   ]
  },
  {
   "cell_type": "code",
   "execution_count": 494,
   "metadata": {},
   "outputs": [],
   "source": [
    "# dummy_pid = pd.get_dummies(df['PID'])"
   ]
  },
  {
   "cell_type": "code",
   "execution_count": 495,
   "metadata": {},
   "outputs": [],
   "source": [
    "# df = pd.concat([df, dummy_pid], axis=1)"
   ]
  },
  {
   "cell_type": "code",
   "execution_count": 496,
   "metadata": {},
   "outputs": [],
   "source": [
    "# df.head()"
   ]
  },
  {
   "cell_type": "code",
   "execution_count": 497,
   "metadata": {},
   "outputs": [],
   "source": [
    "df['day'] = df['date'].dt.day"
   ]
  },
  {
   "cell_type": "code",
   "execution_count": 498,
   "metadata": {},
   "outputs": [],
   "source": [
    "df['month'] = df['date'].dt.month"
   ]
  },
  {
   "cell_type": "code",
   "execution_count": 499,
   "metadata": {},
   "outputs": [],
   "source": [
    "df['year'] = 1"
   ]
  },
  {
   "cell_type": "code",
   "execution_count": 500,
   "metadata": {},
   "outputs": [],
   "source": [
    "# df['hour'] = df['date'].dt.hour"
   ]
  },
  {
   "cell_type": "code",
   "execution_count": 501,
   "metadata": {},
   "outputs": [],
   "source": [
    "# df['minute'] = df['date'].dt.minute"
   ]
  },
  {
   "cell_type": "code",
   "execution_count": 502,
   "metadata": {},
   "outputs": [],
   "source": [
    "# len(df.acc.value_counts())"
   ]
  },
  {
   "cell_type": "code",
   "execution_count": null,
   "metadata": {},
   "outputs": [],
   "source": []
  },
  {
   "cell_type": "code",
   "execution_count": 503,
   "metadata": {},
   "outputs": [],
   "source": [
    "# for i in :\n",
    "#     if df.iloc[i]['PID'] !== 8 and df.iloc[i]['']"
   ]
  },
  {
   "cell_type": "code",
   "execution_count": 504,
   "metadata": {},
   "outputs": [],
   "source": [
    "features = df[['acc', 'day', 'month', 'year',]]\n",
    "labels = df[['PID']]"
   ]
  },
  {
   "cell_type": "code",
   "execution_count": 505,
   "metadata": {},
   "outputs": [],
   "source": [
    "from sklearn.model_selection import train_test_split"
   ]
  },
  {
   "cell_type": "code",
   "execution_count": 506,
   "metadata": {},
   "outputs": [],
   "source": [
    "x_train, x_test, y_train, y_test = train_test_split(features, labels)"
   ]
  },
  {
   "cell_type": "code",
   "execution_count": null,
   "metadata": {},
   "outputs": [],
   "source": []
  },
  {
   "cell_type": "code",
   "execution_count": 508,
   "metadata": {},
   "outputs": [],
   "source": [
    "from sklearn.ensemble import GradientBoostingRegressor"
   ]
  },
  {
   "cell_type": "code",
   "execution_count": 509,
   "metadata": {},
   "outputs": [],
   "source": [
    "model = GradientBoostingRegressor()"
   ]
  },
  {
   "cell_type": "code",
   "execution_count": 510,
   "metadata": {},
   "outputs": [
    {
     "name": "stderr",
     "output_type": "stream",
     "text": [
      "/home/ghaff/anaconda3/lib/python3.7/site-packages/sklearn/ensemble/gradient_boosting.py:1450: DataConversionWarning: A column-vector y was passed when a 1d array was expected. Please change the shape of y to (n_samples, ), for example using ravel().\n",
      "  y = column_or_1d(y, warn=True)\n"
     ]
    },
    {
     "data": {
      "text/plain": [
       "GradientBoostingRegressor(alpha=0.9, criterion='friedman_mse', init=None,\n",
       "                          learning_rate=0.1, loss='ls', max_depth=3,\n",
       "                          max_features=None, max_leaf_nodes=None,\n",
       "                          min_impurity_decrease=0.0, min_impurity_split=None,\n",
       "                          min_samples_leaf=1, min_samples_split=2,\n",
       "                          min_weight_fraction_leaf=0.0, n_estimators=100,\n",
       "                          n_iter_no_change=None, presort='auto',\n",
       "                          random_state=None, subsample=1.0, tol=0.0001,\n",
       "                          validation_fraction=0.1, verbose=0, warm_start=False)"
      ]
     },
     "execution_count": 510,
     "metadata": {},
     "output_type": "execute_result"
    }
   ],
   "source": [
    "model.fit(x_train, y_train)"
   ]
  },
  {
   "cell_type": "code",
   "execution_count": 511,
   "metadata": {},
   "outputs": [
    {
     "data": {
      "text/plain": [
       "0.21043083326011516"
      ]
     },
     "execution_count": 511,
     "metadata": {},
     "output_type": "execute_result"
    }
   ],
   "source": [
    "model.score(x_test, y_test)\n",
    "# int(model.predict(x_train)[0].round())"
   ]
  },
  {
   "cell_type": "code",
   "execution_count": 441,
   "metadata": {},
   "outputs": [],
   "source": [
    "sample_data = pd.read_csv('SampleSubmission.csv')"
   ]
  },
  {
   "cell_type": "code",
   "execution_count": 442,
   "metadata": {},
   "outputs": [],
   "source": [
    "sample_data_2 = sample_data"
   ]
  },
  {
   "cell_type": "code",
   "execution_count": 443,
   "metadata": {},
   "outputs": [],
   "source": [
    "sample_data_2['acc'] = sample_data_2['Account X date X PID'].str.split('X').str[0]\n",
    "sample_data_2['date'] = sample_data_2['Account X date X PID'].str.split('X').str[1]\n",
    "sample_data_2['PID'] = sample_data_2['Account X date X PID'].str.split('X').str[2]\n",
    "# sample_data_2['Account X date X PID'].str.split('X')[1][2]"
   ]
  },
  {
   "cell_type": "code",
   "execution_count": 444,
   "metadata": {},
   "outputs": [
    {
     "data": {
      "text/html": [
       "<div>\n",
       "<style scoped>\n",
       "    .dataframe tbody tr th:only-of-type {\n",
       "        vertical-align: middle;\n",
       "    }\n",
       "\n",
       "    .dataframe tbody tr th {\n",
       "        vertical-align: top;\n",
       "    }\n",
       "\n",
       "    .dataframe thead th {\n",
       "        text-align: right;\n",
       "    }\n",
       "</style>\n",
       "<table border=\"1\" class=\"dataframe\">\n",
       "  <thead>\n",
       "    <tr style=\"text-align: right;\">\n",
       "      <th></th>\n",
       "      <th>Account X date X PID</th>\n",
       "      <th>Prediction</th>\n",
       "      <th>acc</th>\n",
       "      <th>date</th>\n",
       "      <th>PID</th>\n",
       "    </tr>\n",
       "  </thead>\n",
       "  <tbody>\n",
       "    <tr>\n",
       "      <th>0</th>\n",
       "      <td>256786974320 X 2020-02-23 X 5YR6</td>\n",
       "      <td>0</td>\n",
       "      <td>256786974320</td>\n",
       "      <td>2020-02-23</td>\n",
       "      <td>5YR6</td>\n",
       "    </tr>\n",
       "    <tr>\n",
       "      <th>1</th>\n",
       "      <td>256786974320 X 2020-02-23 X WLIW</td>\n",
       "      <td>0</td>\n",
       "      <td>256786974320</td>\n",
       "      <td>2020-02-23</td>\n",
       "      <td>WLIW</td>\n",
       "    </tr>\n",
       "    <tr>\n",
       "      <th>2</th>\n",
       "      <td>256786974320 X 2020-02-23 X U1DD</td>\n",
       "      <td>0</td>\n",
       "      <td>256786974320</td>\n",
       "      <td>2020-02-23</td>\n",
       "      <td>U1DD</td>\n",
       "    </tr>\n",
       "    <tr>\n",
       "      <th>3</th>\n",
       "      <td>256786974320 X 2020-02-23 X T0LZ</td>\n",
       "      <td>0</td>\n",
       "      <td>256786974320</td>\n",
       "      <td>2020-02-23</td>\n",
       "      <td>T0LZ</td>\n",
       "    </tr>\n",
       "    <tr>\n",
       "      <th>4</th>\n",
       "      <td>256786974320 X 2020-02-23 X 80G0</td>\n",
       "      <td>0</td>\n",
       "      <td>256786974320</td>\n",
       "      <td>2020-02-23</td>\n",
       "      <td>80G0</td>\n",
       "    </tr>\n",
       "  </tbody>\n",
       "</table>\n",
       "</div>"
      ],
      "text/plain": [
       "               Account X date X PID  Prediction            acc          date  \\\n",
       "0  256786974320 X 2020-02-23 X 5YR6           0  256786974320    2020-02-23    \n",
       "1  256786974320 X 2020-02-23 X WLIW           0  256786974320    2020-02-23    \n",
       "2  256786974320 X 2020-02-23 X U1DD           0  256786974320    2020-02-23    \n",
       "3  256786974320 X 2020-02-23 X T0LZ           0  256786974320    2020-02-23    \n",
       "4  256786974320 X 2020-02-23 X 80G0           0  256786974320    2020-02-23    \n",
       "\n",
       "     PID  \n",
       "0   5YR6  \n",
       "1   WLIW  \n",
       "2   U1DD  \n",
       "3   T0LZ  \n",
       "4   80G0  "
      ]
     },
     "execution_count": 444,
     "metadata": {},
     "output_type": "execute_result"
    }
   ],
   "source": [
    "sample_data_2.head()"
   ]
  },
  {
   "cell_type": "code",
   "execution_count": 445,
   "metadata": {},
   "outputs": [],
   "source": [
    "sample_data_2['date'] = pd.to_datetime(sample_data_2['date'])\n",
    "sample_data_2['day'] = sample_data_2['date'].dt.day\n",
    "sample_data_2['month'] = sample_data_2['date'].dt.month\n",
    "sample_data_2['year'] = sample_data_2['date'].dt.year\n",
    "# sample_data_2['hour'] = sample_data_2['date'].dt.hour\n",
    "# sample_data_2['minute'] = sample_data_2['date'].dt.minute"
   ]
  },
  {
   "cell_type": "code",
   "execution_count": 446,
   "metadata": {},
   "outputs": [
    {
     "data": {
      "text/html": [
       "<div>\n",
       "<style scoped>\n",
       "    .dataframe tbody tr th:only-of-type {\n",
       "        vertical-align: middle;\n",
       "    }\n",
       "\n",
       "    .dataframe tbody tr th {\n",
       "        vertical-align: top;\n",
       "    }\n",
       "\n",
       "    .dataframe thead th {\n",
       "        text-align: right;\n",
       "    }\n",
       "</style>\n",
       "<table border=\"1\" class=\"dataframe\">\n",
       "  <thead>\n",
       "    <tr style=\"text-align: right;\">\n",
       "      <th></th>\n",
       "      <th>Account X date X PID</th>\n",
       "      <th>Prediction</th>\n",
       "      <th>acc</th>\n",
       "      <th>date</th>\n",
       "      <th>PID</th>\n",
       "      <th>day</th>\n",
       "      <th>month</th>\n",
       "      <th>year</th>\n",
       "    </tr>\n",
       "  </thead>\n",
       "  <tbody>\n",
       "    <tr>\n",
       "      <th>0</th>\n",
       "      <td>256786974320 X 2020-02-23 X 5YR6</td>\n",
       "      <td>0</td>\n",
       "      <td>256786974320</td>\n",
       "      <td>2020-02-23</td>\n",
       "      <td>5YR6</td>\n",
       "      <td>23</td>\n",
       "      <td>2</td>\n",
       "      <td>2020</td>\n",
       "    </tr>\n",
       "    <tr>\n",
       "      <th>1</th>\n",
       "      <td>256786974320 X 2020-02-23 X WLIW</td>\n",
       "      <td>0</td>\n",
       "      <td>256786974320</td>\n",
       "      <td>2020-02-23</td>\n",
       "      <td>WLIW</td>\n",
       "      <td>23</td>\n",
       "      <td>2</td>\n",
       "      <td>2020</td>\n",
       "    </tr>\n",
       "    <tr>\n",
       "      <th>2</th>\n",
       "      <td>256786974320 X 2020-02-23 X U1DD</td>\n",
       "      <td>0</td>\n",
       "      <td>256786974320</td>\n",
       "      <td>2020-02-23</td>\n",
       "      <td>U1DD</td>\n",
       "      <td>23</td>\n",
       "      <td>2</td>\n",
       "      <td>2020</td>\n",
       "    </tr>\n",
       "    <tr>\n",
       "      <th>3</th>\n",
       "      <td>256786974320 X 2020-02-23 X T0LZ</td>\n",
       "      <td>0</td>\n",
       "      <td>256786974320</td>\n",
       "      <td>2020-02-23</td>\n",
       "      <td>T0LZ</td>\n",
       "      <td>23</td>\n",
       "      <td>2</td>\n",
       "      <td>2020</td>\n",
       "    </tr>\n",
       "    <tr>\n",
       "      <th>4</th>\n",
       "      <td>256786974320 X 2020-02-23 X 80G0</td>\n",
       "      <td>0</td>\n",
       "      <td>256786974320</td>\n",
       "      <td>2020-02-23</td>\n",
       "      <td>80G0</td>\n",
       "      <td>23</td>\n",
       "      <td>2</td>\n",
       "      <td>2020</td>\n",
       "    </tr>\n",
       "  </tbody>\n",
       "</table>\n",
       "</div>"
      ],
      "text/plain": [
       "               Account X date X PID  Prediction            acc       date  \\\n",
       "0  256786974320 X 2020-02-23 X 5YR6           0  256786974320  2020-02-23   \n",
       "1  256786974320 X 2020-02-23 X WLIW           0  256786974320  2020-02-23   \n",
       "2  256786974320 X 2020-02-23 X U1DD           0  256786974320  2020-02-23   \n",
       "3  256786974320 X 2020-02-23 X T0LZ           0  256786974320  2020-02-23   \n",
       "4  256786974320 X 2020-02-23 X 80G0           0  256786974320  2020-02-23   \n",
       "\n",
       "     PID  day  month  year  \n",
       "0   5YR6   23      2  2020  \n",
       "1   WLIW   23      2  2020  \n",
       "2   U1DD   23      2  2020  \n",
       "3   T0LZ   23      2  2020  \n",
       "4   80G0   23      2  2020  "
      ]
     },
     "execution_count": 446,
     "metadata": {},
     "output_type": "execute_result"
    }
   ],
   "source": [
    "sample_data_2.head()"
   ]
  },
  {
   "cell_type": "code",
   "execution_count": 447,
   "metadata": {},
   "outputs": [],
   "source": [
    "sample_data_2['PID'] = encoder.fit_transform(sample_data_2['PID'])\n",
    "sample_data_2['acc'] = encoder.fit_transform(sample_data_2['acc'])"
   ]
  },
  {
   "cell_type": "code",
   "execution_count": 448,
   "metadata": {},
   "outputs": [],
   "source": [
    "features_test = sample_data_2[['acc','day', 'month', 'year']] "
   ]
  },
  {
   "cell_type": "code",
   "execution_count": 449,
   "metadata": {},
   "outputs": [
    {
     "data": {
      "text/html": [
       "<div>\n",
       "<style scoped>\n",
       "    .dataframe tbody tr th:only-of-type {\n",
       "        vertical-align: middle;\n",
       "    }\n",
       "\n",
       "    .dataframe tbody tr th {\n",
       "        vertical-align: top;\n",
       "    }\n",
       "\n",
       "    .dataframe thead th {\n",
       "        text-align: right;\n",
       "    }\n",
       "</style>\n",
       "<table border=\"1\" class=\"dataframe\">\n",
       "  <thead>\n",
       "    <tr style=\"text-align: right;\">\n",
       "      <th></th>\n",
       "      <th>acc</th>\n",
       "      <th>day</th>\n",
       "      <th>month</th>\n",
       "      <th>year</th>\n",
       "    </tr>\n",
       "  </thead>\n",
       "  <tbody>\n",
       "    <tr>\n",
       "      <th>0</th>\n",
       "      <td>597</td>\n",
       "      <td>23</td>\n",
       "      <td>2</td>\n",
       "      <td>2020</td>\n",
       "    </tr>\n",
       "    <tr>\n",
       "      <th>1</th>\n",
       "      <td>597</td>\n",
       "      <td>23</td>\n",
       "      <td>2</td>\n",
       "      <td>2020</td>\n",
       "    </tr>\n",
       "    <tr>\n",
       "      <th>2</th>\n",
       "      <td>597</td>\n",
       "      <td>23</td>\n",
       "      <td>2</td>\n",
       "      <td>2020</td>\n",
       "    </tr>\n",
       "    <tr>\n",
       "      <th>3</th>\n",
       "      <td>597</td>\n",
       "      <td>23</td>\n",
       "      <td>2</td>\n",
       "      <td>2020</td>\n",
       "    </tr>\n",
       "    <tr>\n",
       "      <th>4</th>\n",
       "      <td>597</td>\n",
       "      <td>23</td>\n",
       "      <td>2</td>\n",
       "      <td>2020</td>\n",
       "    </tr>\n",
       "  </tbody>\n",
       "</table>\n",
       "</div>"
      ],
      "text/plain": [
       "   acc  day  month  year\n",
       "0  597   23      2  2020\n",
       "1  597   23      2  2020\n",
       "2  597   23      2  2020\n",
       "3  597   23      2  2020\n",
       "4  597   23      2  2020"
      ]
     },
     "execution_count": 449,
     "metadata": {},
     "output_type": "execute_result"
    }
   ],
   "source": [
    "features_test.head()"
   ]
  },
  {
   "cell_type": "code",
   "execution_count": 450,
   "metadata": {},
   "outputs": [
    {
     "data": {
      "text/plain": [
       "array([16.6, 16.6, 16.6, ..., 27.8, 27.8, 27.8])"
      ]
     },
     "execution_count": 450,
     "metadata": {},
     "output_type": "execute_result"
    }
   ],
   "source": [
    "model.predict(features_test)"
   ]
  },
  {
   "cell_type": "code",
   "execution_count": 451,
   "metadata": {},
   "outputs": [],
   "source": [
    "sample_data_2['predicted_pid'] = model.predict(features_test)"
   ]
  },
  {
   "cell_type": "code",
   "execution_count": 452,
   "metadata": {},
   "outputs": [
    {
     "data": {
      "text/html": [
       "<div>\n",
       "<style scoped>\n",
       "    .dataframe tbody tr th:only-of-type {\n",
       "        vertical-align: middle;\n",
       "    }\n",
       "\n",
       "    .dataframe tbody tr th {\n",
       "        vertical-align: top;\n",
       "    }\n",
       "\n",
       "    .dataframe thead th {\n",
       "        text-align: right;\n",
       "    }\n",
       "</style>\n",
       "<table border=\"1\" class=\"dataframe\">\n",
       "  <thead>\n",
       "    <tr style=\"text-align: right;\">\n",
       "      <th></th>\n",
       "      <th>Account X date X PID</th>\n",
       "      <th>Prediction</th>\n",
       "      <th>acc</th>\n",
       "      <th>date</th>\n",
       "      <th>PID</th>\n",
       "      <th>day</th>\n",
       "      <th>month</th>\n",
       "      <th>year</th>\n",
       "      <th>predicted_pid</th>\n",
       "    </tr>\n",
       "  </thead>\n",
       "  <tbody>\n",
       "    <tr>\n",
       "      <th>111043</th>\n",
       "      <td>256704700785 X 2020-02-29 X P4IQ</td>\n",
       "      <td>0</td>\n",
       "      <td>107</td>\n",
       "      <td>2020-02-29</td>\n",
       "      <td>13</td>\n",
       "      <td>29</td>\n",
       "      <td>2</td>\n",
       "      <td>2020</td>\n",
       "      <td>27.8</td>\n",
       "    </tr>\n",
       "    <tr>\n",
       "      <th>111044</th>\n",
       "      <td>256704700785 X 2020-02-29 X PNYC</td>\n",
       "      <td>0</td>\n",
       "      <td>107</td>\n",
       "      <td>2020-02-29</td>\n",
       "      <td>15</td>\n",
       "      <td>29</td>\n",
       "      <td>2</td>\n",
       "      <td>2020</td>\n",
       "      <td>27.8</td>\n",
       "    </tr>\n",
       "    <tr>\n",
       "      <th>111045</th>\n",
       "      <td>256704700785 X 2020-02-29 X YDAG</td>\n",
       "      <td>0</td>\n",
       "      <td>107</td>\n",
       "      <td>2020-02-29</td>\n",
       "      <td>21</td>\n",
       "      <td>29</td>\n",
       "      <td>2</td>\n",
       "      <td>2020</td>\n",
       "      <td>27.8</td>\n",
       "    </tr>\n",
       "    <tr>\n",
       "      <th>111046</th>\n",
       "      <td>256704700785 X 2020-02-29 X ZDTG</td>\n",
       "      <td>0</td>\n",
       "      <td>107</td>\n",
       "      <td>2020-02-29</td>\n",
       "      <td>23</td>\n",
       "      <td>29</td>\n",
       "      <td>2</td>\n",
       "      <td>2020</td>\n",
       "      <td>27.8</td>\n",
       "    </tr>\n",
       "    <tr>\n",
       "      <th>111047</th>\n",
       "      <td>256704700785 X 2020-02-29 X 7IPS</td>\n",
       "      <td>0</td>\n",
       "      <td>107</td>\n",
       "      <td>2020-02-29</td>\n",
       "      <td>6</td>\n",
       "      <td>29</td>\n",
       "      <td>2</td>\n",
       "      <td>2020</td>\n",
       "      <td>27.8</td>\n",
       "    </tr>\n",
       "  </tbody>\n",
       "</table>\n",
       "</div>"
      ],
      "text/plain": [
       "                    Account X date X PID  Prediction  acc       date  PID  \\\n",
       "111043  256704700785 X 2020-02-29 X P4IQ           0  107 2020-02-29   13   \n",
       "111044  256704700785 X 2020-02-29 X PNYC           0  107 2020-02-29   15   \n",
       "111045  256704700785 X 2020-02-29 X YDAG           0  107 2020-02-29   21   \n",
       "111046  256704700785 X 2020-02-29 X ZDTG           0  107 2020-02-29   23   \n",
       "111047  256704700785 X 2020-02-29 X 7IPS           0  107 2020-02-29    6   \n",
       "\n",
       "        day  month  year  predicted_pid  \n",
       "111043   29      2  2020           27.8  \n",
       "111044   29      2  2020           27.8  \n",
       "111045   29      2  2020           27.8  \n",
       "111046   29      2  2020           27.8  \n",
       "111047   29      2  2020           27.8  "
      ]
     },
     "execution_count": 452,
     "metadata": {},
     "output_type": "execute_result"
    }
   ],
   "source": [
    "sample_data_2.tail()"
   ]
  },
  {
   "cell_type": "code",
   "execution_count": 453,
   "metadata": {},
   "outputs": [],
   "source": [
    "sample_data_2['predicted_pid'] = sample_data_2['predicted_pid'].astype(int)"
   ]
  },
  {
   "cell_type": "code",
   "execution_count": 454,
   "metadata": {},
   "outputs": [
    {
     "data": {
      "text/html": [
       "<div>\n",
       "<style scoped>\n",
       "    .dataframe tbody tr th:only-of-type {\n",
       "        vertical-align: middle;\n",
       "    }\n",
       "\n",
       "    .dataframe tbody tr th {\n",
       "        vertical-align: top;\n",
       "    }\n",
       "\n",
       "    .dataframe thead th {\n",
       "        text-align: right;\n",
       "    }\n",
       "</style>\n",
       "<table border=\"1\" class=\"dataframe\">\n",
       "  <thead>\n",
       "    <tr style=\"text-align: right;\">\n",
       "      <th></th>\n",
       "      <th>Account X date X PID</th>\n",
       "      <th>Prediction</th>\n",
       "      <th>acc</th>\n",
       "      <th>date</th>\n",
       "      <th>PID</th>\n",
       "      <th>day</th>\n",
       "      <th>month</th>\n",
       "      <th>year</th>\n",
       "      <th>predicted_pid</th>\n",
       "    </tr>\n",
       "  </thead>\n",
       "  <tbody>\n",
       "    <tr>\n",
       "      <th>9</th>\n",
       "      <td>256786974320 X 2020-02-23 X Q9SJ</td>\n",
       "      <td>0</td>\n",
       "      <td>597</td>\n",
       "      <td>2020-02-23</td>\n",
       "      <td>16</td>\n",
       "      <td>23</td>\n",
       "      <td>2</td>\n",
       "      <td>2020</td>\n",
       "      <td>16</td>\n",
       "    </tr>\n",
       "    <tr>\n",
       "      <th>26</th>\n",
       "      <td>256786974320 X 2020-02-24 X U1DD</td>\n",
       "      <td>0</td>\n",
       "      <td>597</td>\n",
       "      <td>2020-02-24</td>\n",
       "      <td>19</td>\n",
       "      <td>24</td>\n",
       "      <td>2</td>\n",
       "      <td>2020</td>\n",
       "      <td>19</td>\n",
       "    </tr>\n",
       "    <tr>\n",
       "      <th>51</th>\n",
       "      <td>256786974320 X 2020-02-25 X T0LZ</td>\n",
       "      <td>0</td>\n",
       "      <td>597</td>\n",
       "      <td>2020-02-25</td>\n",
       "      <td>17</td>\n",
       "      <td>25</td>\n",
       "      <td>2</td>\n",
       "      <td>2020</td>\n",
       "      <td>17</td>\n",
       "    </tr>\n",
       "    <tr>\n",
       "      <th>81</th>\n",
       "      <td>256786974320 X 2020-02-26 X Q9SJ</td>\n",
       "      <td>0</td>\n",
       "      <td>597</td>\n",
       "      <td>2020-02-26</td>\n",
       "      <td>16</td>\n",
       "      <td>26</td>\n",
       "      <td>2</td>\n",
       "      <td>2020</td>\n",
       "      <td>16</td>\n",
       "    </tr>\n",
       "    <tr>\n",
       "      <th>105</th>\n",
       "      <td>256786974320 X 2020-02-27 X Q9SJ</td>\n",
       "      <td>0</td>\n",
       "      <td>597</td>\n",
       "      <td>2020-02-27</td>\n",
       "      <td>16</td>\n",
       "      <td>27</td>\n",
       "      <td>2</td>\n",
       "      <td>2020</td>\n",
       "      <td>16</td>\n",
       "    </tr>\n",
       "    <tr>\n",
       "      <th>...</th>\n",
       "      <td>...</td>\n",
       "      <td>...</td>\n",
       "      <td>...</td>\n",
       "      <td>...</td>\n",
       "      <td>...</td>\n",
       "      <td>...</td>\n",
       "      <td>...</td>\n",
       "      <td>...</td>\n",
       "      <td>...</td>\n",
       "    </tr>\n",
       "    <tr>\n",
       "      <th>110781</th>\n",
       "      <td>256772589252 X 2020-02-25 X YDAG</td>\n",
       "      <td>0</td>\n",
       "      <td>311</td>\n",
       "      <td>2020-02-25</td>\n",
       "      <td>21</td>\n",
       "      <td>25</td>\n",
       "      <td>2</td>\n",
       "      <td>2020</td>\n",
       "      <td>21</td>\n",
       "    </tr>\n",
       "    <tr>\n",
       "      <th>110786</th>\n",
       "      <td>256772589252 X 2020-02-26 X U1DD</td>\n",
       "      <td>0</td>\n",
       "      <td>311</td>\n",
       "      <td>2020-02-26</td>\n",
       "      <td>19</td>\n",
       "      <td>26</td>\n",
       "      <td>2</td>\n",
       "      <td>2020</td>\n",
       "      <td>19</td>\n",
       "    </tr>\n",
       "    <tr>\n",
       "      <th>110810</th>\n",
       "      <td>256772589252 X 2020-02-27 X U1DD</td>\n",
       "      <td>0</td>\n",
       "      <td>311</td>\n",
       "      <td>2020-02-27</td>\n",
       "      <td>19</td>\n",
       "      <td>27</td>\n",
       "      <td>2</td>\n",
       "      <td>2020</td>\n",
       "      <td>19</td>\n",
       "    </tr>\n",
       "    <tr>\n",
       "      <th>110833</th>\n",
       "      <td>256772589252 X 2020-02-28 X WLIW</td>\n",
       "      <td>0</td>\n",
       "      <td>311</td>\n",
       "      <td>2020-02-28</td>\n",
       "      <td>20</td>\n",
       "      <td>28</td>\n",
       "      <td>2</td>\n",
       "      <td>2020</td>\n",
       "      <td>20</td>\n",
       "    </tr>\n",
       "    <tr>\n",
       "      <th>110857</th>\n",
       "      <td>256772589252 X 2020-02-29 X WLIW</td>\n",
       "      <td>0</td>\n",
       "      <td>311</td>\n",
       "      <td>2020-02-29</td>\n",
       "      <td>20</td>\n",
       "      <td>29</td>\n",
       "      <td>2</td>\n",
       "      <td>2020</td>\n",
       "      <td>20</td>\n",
       "    </tr>\n",
       "  </tbody>\n",
       "</table>\n",
       "<p>3612 rows × 9 columns</p>\n",
       "</div>"
      ],
      "text/plain": [
       "                    Account X date X PID  Prediction  acc       date  PID  \\\n",
       "9       256786974320 X 2020-02-23 X Q9SJ           0  597 2020-02-23   16   \n",
       "26      256786974320 X 2020-02-24 X U1DD           0  597 2020-02-24   19   \n",
       "51      256786974320 X 2020-02-25 X T0LZ           0  597 2020-02-25   17   \n",
       "81      256786974320 X 2020-02-26 X Q9SJ           0  597 2020-02-26   16   \n",
       "105     256786974320 X 2020-02-27 X Q9SJ           0  597 2020-02-27   16   \n",
       "...                                  ...         ...  ...        ...  ...   \n",
       "110781  256772589252 X 2020-02-25 X YDAG           0  311 2020-02-25   21   \n",
       "110786  256772589252 X 2020-02-26 X U1DD           0  311 2020-02-26   19   \n",
       "110810  256772589252 X 2020-02-27 X U1DD           0  311 2020-02-27   19   \n",
       "110833  256772589252 X 2020-02-28 X WLIW           0  311 2020-02-28   20   \n",
       "110857  256772589252 X 2020-02-29 X WLIW           0  311 2020-02-29   20   \n",
       "\n",
       "        day  month  year  predicted_pid  \n",
       "9        23      2  2020             16  \n",
       "26       24      2  2020             19  \n",
       "51       25      2  2020             17  \n",
       "81       26      2  2020             16  \n",
       "105      27      2  2020             16  \n",
       "...     ...    ...   ...            ...  \n",
       "110781   25      2  2020             21  \n",
       "110786   26      2  2020             19  \n",
       "110810   27      2  2020             19  \n",
       "110833   28      2  2020             20  \n",
       "110857   29      2  2020             20  \n",
       "\n",
       "[3612 rows x 9 columns]"
      ]
     },
     "execution_count": 454,
     "metadata": {},
     "output_type": "execute_result"
    }
   ],
   "source": [
    "sample_data_2[sample_data_2['PID'] == sample_data_2['predicted_pid']]"
   ]
  },
  {
   "cell_type": "code",
   "execution_count": null,
   "metadata": {},
   "outputs": [],
   "source": []
  },
  {
   "cell_type": "code",
   "execution_count": 455,
   "metadata": {},
   "outputs": [],
   "source": [
    "# for i in range(len(sample_data_2.Prediction)):\n",
    "#     if sample_data_2.iloc[i]['PID'] == sample_data_2.iloc[i]['predicted_pid']:\n",
    "#         sample_data_2.iloc[i]['Prediction'] == 1\n",
    "#     else:\n",
    "#         sample_data_2.iloc[i]['Prediction'] == 0"
   ]
  },
  {
   "cell_type": "code",
   "execution_count": 456,
   "metadata": {},
   "outputs": [
    {
     "data": {
      "text/plain": [
       "0    111048\n",
       "Name: Prediction, dtype: int64"
      ]
     },
     "execution_count": 456,
     "metadata": {},
     "output_type": "execute_result"
    }
   ],
   "source": [
    "sample_data_2['Prediction'].value_counts()"
   ]
  },
  {
   "cell_type": "code",
   "execution_count": 457,
   "metadata": {},
   "outputs": [
    {
     "data": {
      "text/html": [
       "<div>\n",
       "<style scoped>\n",
       "    .dataframe tbody tr th:only-of-type {\n",
       "        vertical-align: middle;\n",
       "    }\n",
       "\n",
       "    .dataframe tbody tr th {\n",
       "        vertical-align: top;\n",
       "    }\n",
       "\n",
       "    .dataframe thead th {\n",
       "        text-align: right;\n",
       "    }\n",
       "</style>\n",
       "<table border=\"1\" class=\"dataframe\">\n",
       "  <thead>\n",
       "    <tr style=\"text-align: right;\">\n",
       "      <th></th>\n",
       "      <th>Account X date X PID</th>\n",
       "      <th>Prediction</th>\n",
       "      <th>acc</th>\n",
       "      <th>date</th>\n",
       "      <th>PID</th>\n",
       "      <th>day</th>\n",
       "      <th>month</th>\n",
       "      <th>year</th>\n",
       "      <th>predicted_pid</th>\n",
       "    </tr>\n",
       "  </thead>\n",
       "  <tbody>\n",
       "    <tr>\n",
       "      <th>9</th>\n",
       "      <td>256786974320 X 2020-02-23 X Q9SJ</td>\n",
       "      <td>0</td>\n",
       "      <td>597</td>\n",
       "      <td>2020-02-23</td>\n",
       "      <td>16</td>\n",
       "      <td>23</td>\n",
       "      <td>2</td>\n",
       "      <td>2020</td>\n",
       "      <td>16</td>\n",
       "    </tr>\n",
       "    <tr>\n",
       "      <th>26</th>\n",
       "      <td>256786974320 X 2020-02-24 X U1DD</td>\n",
       "      <td>0</td>\n",
       "      <td>597</td>\n",
       "      <td>2020-02-24</td>\n",
       "      <td>19</td>\n",
       "      <td>24</td>\n",
       "      <td>2</td>\n",
       "      <td>2020</td>\n",
       "      <td>19</td>\n",
       "    </tr>\n",
       "    <tr>\n",
       "      <th>51</th>\n",
       "      <td>256786974320 X 2020-02-25 X T0LZ</td>\n",
       "      <td>0</td>\n",
       "      <td>597</td>\n",
       "      <td>2020-02-25</td>\n",
       "      <td>17</td>\n",
       "      <td>25</td>\n",
       "      <td>2</td>\n",
       "      <td>2020</td>\n",
       "      <td>17</td>\n",
       "    </tr>\n",
       "    <tr>\n",
       "      <th>81</th>\n",
       "      <td>256786974320 X 2020-02-26 X Q9SJ</td>\n",
       "      <td>0</td>\n",
       "      <td>597</td>\n",
       "      <td>2020-02-26</td>\n",
       "      <td>16</td>\n",
       "      <td>26</td>\n",
       "      <td>2</td>\n",
       "      <td>2020</td>\n",
       "      <td>16</td>\n",
       "    </tr>\n",
       "    <tr>\n",
       "      <th>105</th>\n",
       "      <td>256786974320 X 2020-02-27 X Q9SJ</td>\n",
       "      <td>0</td>\n",
       "      <td>597</td>\n",
       "      <td>2020-02-27</td>\n",
       "      <td>16</td>\n",
       "      <td>27</td>\n",
       "      <td>2</td>\n",
       "      <td>2020</td>\n",
       "      <td>16</td>\n",
       "    </tr>\n",
       "    <tr>\n",
       "      <th>...</th>\n",
       "      <td>...</td>\n",
       "      <td>...</td>\n",
       "      <td>...</td>\n",
       "      <td>...</td>\n",
       "      <td>...</td>\n",
       "      <td>...</td>\n",
       "      <td>...</td>\n",
       "      <td>...</td>\n",
       "      <td>...</td>\n",
       "    </tr>\n",
       "    <tr>\n",
       "      <th>110781</th>\n",
       "      <td>256772589252 X 2020-02-25 X YDAG</td>\n",
       "      <td>0</td>\n",
       "      <td>311</td>\n",
       "      <td>2020-02-25</td>\n",
       "      <td>21</td>\n",
       "      <td>25</td>\n",
       "      <td>2</td>\n",
       "      <td>2020</td>\n",
       "      <td>21</td>\n",
       "    </tr>\n",
       "    <tr>\n",
       "      <th>110786</th>\n",
       "      <td>256772589252 X 2020-02-26 X U1DD</td>\n",
       "      <td>0</td>\n",
       "      <td>311</td>\n",
       "      <td>2020-02-26</td>\n",
       "      <td>19</td>\n",
       "      <td>26</td>\n",
       "      <td>2</td>\n",
       "      <td>2020</td>\n",
       "      <td>19</td>\n",
       "    </tr>\n",
       "    <tr>\n",
       "      <th>110810</th>\n",
       "      <td>256772589252 X 2020-02-27 X U1DD</td>\n",
       "      <td>0</td>\n",
       "      <td>311</td>\n",
       "      <td>2020-02-27</td>\n",
       "      <td>19</td>\n",
       "      <td>27</td>\n",
       "      <td>2</td>\n",
       "      <td>2020</td>\n",
       "      <td>19</td>\n",
       "    </tr>\n",
       "    <tr>\n",
       "      <th>110833</th>\n",
       "      <td>256772589252 X 2020-02-28 X WLIW</td>\n",
       "      <td>0</td>\n",
       "      <td>311</td>\n",
       "      <td>2020-02-28</td>\n",
       "      <td>20</td>\n",
       "      <td>28</td>\n",
       "      <td>2</td>\n",
       "      <td>2020</td>\n",
       "      <td>20</td>\n",
       "    </tr>\n",
       "    <tr>\n",
       "      <th>110857</th>\n",
       "      <td>256772589252 X 2020-02-29 X WLIW</td>\n",
       "      <td>0</td>\n",
       "      <td>311</td>\n",
       "      <td>2020-02-29</td>\n",
       "      <td>20</td>\n",
       "      <td>29</td>\n",
       "      <td>2</td>\n",
       "      <td>2020</td>\n",
       "      <td>20</td>\n",
       "    </tr>\n",
       "  </tbody>\n",
       "</table>\n",
       "<p>3612 rows × 9 columns</p>\n",
       "</div>"
      ],
      "text/plain": [
       "                    Account X date X PID  Prediction  acc       date  PID  \\\n",
       "9       256786974320 X 2020-02-23 X Q9SJ           0  597 2020-02-23   16   \n",
       "26      256786974320 X 2020-02-24 X U1DD           0  597 2020-02-24   19   \n",
       "51      256786974320 X 2020-02-25 X T0LZ           0  597 2020-02-25   17   \n",
       "81      256786974320 X 2020-02-26 X Q9SJ           0  597 2020-02-26   16   \n",
       "105     256786974320 X 2020-02-27 X Q9SJ           0  597 2020-02-27   16   \n",
       "...                                  ...         ...  ...        ...  ...   \n",
       "110781  256772589252 X 2020-02-25 X YDAG           0  311 2020-02-25   21   \n",
       "110786  256772589252 X 2020-02-26 X U1DD           0  311 2020-02-26   19   \n",
       "110810  256772589252 X 2020-02-27 X U1DD           0  311 2020-02-27   19   \n",
       "110833  256772589252 X 2020-02-28 X WLIW           0  311 2020-02-28   20   \n",
       "110857  256772589252 X 2020-02-29 X WLIW           0  311 2020-02-29   20   \n",
       "\n",
       "        day  month  year  predicted_pid  \n",
       "9        23      2  2020             16  \n",
       "26       24      2  2020             19  \n",
       "51       25      2  2020             17  \n",
       "81       26      2  2020             16  \n",
       "105      27      2  2020             16  \n",
       "...     ...    ...   ...            ...  \n",
       "110781   25      2  2020             21  \n",
       "110786   26      2  2020             19  \n",
       "110810   27      2  2020             19  \n",
       "110833   28      2  2020             20  \n",
       "110857   29      2  2020             20  \n",
       "\n",
       "[3612 rows x 9 columns]"
      ]
     },
     "execution_count": 457,
     "metadata": {},
     "output_type": "execute_result"
    }
   ],
   "source": [
    "sample_data_2[sample_data_2['PID'] == sample_data_2['predicted_pid']]"
   ]
  },
  {
   "cell_type": "code",
   "execution_count": 458,
   "metadata": {},
   "outputs": [],
   "source": [
    "# sample_data_2.replace(sample_data_2[sample_data_2['PID'] == sample_data_2['predicted_pid']].Prediction, 0, inplace=True)"
   ]
  },
  {
   "cell_type": "code",
   "execution_count": 467,
   "metadata": {},
   "outputs": [],
   "source": [
    "new = sample_data_2[sample_data_2['PID'] == sample_data_2['predicted_pid']]"
   ]
  },
  {
   "cell_type": "code",
   "execution_count": 469,
   "metadata": {},
   "outputs": [
    {
     "name": "stderr",
     "output_type": "stream",
     "text": [
      "/home/ghaff/anaconda3/lib/python3.7/site-packages/pandas/core/generic.py:5303: SettingWithCopyWarning: \n",
      "A value is trying to be set on a copy of a slice from a DataFrame.\n",
      "Try using .loc[row_indexer,col_indexer] = value instead\n",
      "\n",
      "See the caveats in the documentation: https://pandas.pydata.org/pandas-docs/stable/user_guide/indexing.html#returning-a-view-versus-a-copy\n",
      "  self[name] = value\n"
     ]
    }
   ],
   "source": [
    "new.Prediction = 1"
   ]
  },
  {
   "cell_type": "code",
   "execution_count": 471,
   "metadata": {},
   "outputs": [
    {
     "data": {
      "text/html": [
       "<div>\n",
       "<style scoped>\n",
       "    .dataframe tbody tr th:only-of-type {\n",
       "        vertical-align: middle;\n",
       "    }\n",
       "\n",
       "    .dataframe tbody tr th {\n",
       "        vertical-align: top;\n",
       "    }\n",
       "\n",
       "    .dataframe thead th {\n",
       "        text-align: right;\n",
       "    }\n",
       "</style>\n",
       "<table border=\"1\" class=\"dataframe\">\n",
       "  <thead>\n",
       "    <tr style=\"text-align: right;\">\n",
       "      <th></th>\n",
       "      <th>Account X date X PID</th>\n",
       "      <th>Prediction</th>\n",
       "      <th>acc</th>\n",
       "      <th>date</th>\n",
       "      <th>PID</th>\n",
       "      <th>day</th>\n",
       "      <th>month</th>\n",
       "      <th>year</th>\n",
       "      <th>predicted_pid</th>\n",
       "    </tr>\n",
       "  </thead>\n",
       "  <tbody>\n",
       "    <tr>\n",
       "      <th>9</th>\n",
       "      <td>256786974320 X 2020-02-23 X Q9SJ</td>\n",
       "      <td>1</td>\n",
       "      <td>597</td>\n",
       "      <td>2020-02-23</td>\n",
       "      <td>16</td>\n",
       "      <td>23</td>\n",
       "      <td>2</td>\n",
       "      <td>2020</td>\n",
       "      <td>16</td>\n",
       "    </tr>\n",
       "    <tr>\n",
       "      <th>26</th>\n",
       "      <td>256786974320 X 2020-02-24 X U1DD</td>\n",
       "      <td>1</td>\n",
       "      <td>597</td>\n",
       "      <td>2020-02-24</td>\n",
       "      <td>19</td>\n",
       "      <td>24</td>\n",
       "      <td>2</td>\n",
       "      <td>2020</td>\n",
       "      <td>19</td>\n",
       "    </tr>\n",
       "    <tr>\n",
       "      <th>51</th>\n",
       "      <td>256786974320 X 2020-02-25 X T0LZ</td>\n",
       "      <td>1</td>\n",
       "      <td>597</td>\n",
       "      <td>2020-02-25</td>\n",
       "      <td>17</td>\n",
       "      <td>25</td>\n",
       "      <td>2</td>\n",
       "      <td>2020</td>\n",
       "      <td>17</td>\n",
       "    </tr>\n",
       "    <tr>\n",
       "      <th>81</th>\n",
       "      <td>256786974320 X 2020-02-26 X Q9SJ</td>\n",
       "      <td>1</td>\n",
       "      <td>597</td>\n",
       "      <td>2020-02-26</td>\n",
       "      <td>16</td>\n",
       "      <td>26</td>\n",
       "      <td>2</td>\n",
       "      <td>2020</td>\n",
       "      <td>16</td>\n",
       "    </tr>\n",
       "    <tr>\n",
       "      <th>105</th>\n",
       "      <td>256786974320 X 2020-02-27 X Q9SJ</td>\n",
       "      <td>1</td>\n",
       "      <td>597</td>\n",
       "      <td>2020-02-27</td>\n",
       "      <td>16</td>\n",
       "      <td>27</td>\n",
       "      <td>2</td>\n",
       "      <td>2020</td>\n",
       "      <td>16</td>\n",
       "    </tr>\n",
       "  </tbody>\n",
       "</table>\n",
       "</div>"
      ],
      "text/plain": [
       "                 Account X date X PID  Prediction  acc       date  PID  day  \\\n",
       "9    256786974320 X 2020-02-23 X Q9SJ           1  597 2020-02-23   16   23   \n",
       "26   256786974320 X 2020-02-24 X U1DD           1  597 2020-02-24   19   24   \n",
       "51   256786974320 X 2020-02-25 X T0LZ           1  597 2020-02-25   17   25   \n",
       "81   256786974320 X 2020-02-26 X Q9SJ           1  597 2020-02-26   16   26   \n",
       "105  256786974320 X 2020-02-27 X Q9SJ           1  597 2020-02-27   16   27   \n",
       "\n",
       "     month  year  predicted_pid  \n",
       "9        2  2020             16  \n",
       "26       2  2020             19  \n",
       "51       2  2020             17  \n",
       "81       2  2020             16  \n",
       "105      2  2020             16  "
      ]
     },
     "execution_count": 471,
     "metadata": {},
     "output_type": "execute_result"
    }
   ],
   "source": [
    "new.head()"
   ]
  },
  {
   "cell_type": "code",
   "execution_count": 475,
   "metadata": {},
   "outputs": [],
   "source": [
    "sample_data_2 = sample_data_2[sample_data_2['PID'] != sample_data_2['predicted_pid']]"
   ]
  },
  {
   "cell_type": "code",
   "execution_count": 477,
   "metadata": {},
   "outputs": [],
   "source": [
    "final = pd.concat([new, sample_data_2], axis=0)"
   ]
  },
  {
   "cell_type": "code",
   "execution_count": 479,
   "metadata": {},
   "outputs": [],
   "source": [
    "final_data = final[['Account X date X PID', 'Prediction']]"
   ]
  },
  {
   "cell_type": "code",
   "execution_count": 481,
   "metadata": {},
   "outputs": [],
   "source": [
    "final_data.to_csv('Submission.csv')"
   ]
  },
  {
   "cell_type": "code",
   "execution_count": 460,
   "metadata": {},
   "outputs": [
    {
     "data": {
      "text/plain": [
       "0    111048\n",
       "Name: Prediction, dtype: int64"
      ]
     },
     "execution_count": 460,
     "metadata": {},
     "output_type": "execute_result"
    }
   ],
   "source": [
    "sample_data_2['Prediction'].value_counts()"
   ]
  },
  {
   "cell_type": "code",
   "execution_count": 461,
   "metadata": {},
   "outputs": [],
   "source": [
    "# sample_data_2.head()"
   ]
  },
  {
   "cell_type": "code",
   "execution_count": 462,
   "metadata": {},
   "outputs": [],
   "source": [
    "sample_data_2.loc[(sample_data_2.Prediction == sample_data_2.predicted_pid), 'Prediction'] = 1"
   ]
  },
  {
   "cell_type": "code",
   "execution_count": 463,
   "metadata": {},
   "outputs": [
    {
     "data": {
      "text/plain": [
       "0    111048\n",
       "Name: Prediction, dtype: int64"
      ]
     },
     "execution_count": 463,
     "metadata": {},
     "output_type": "execute_result"
    }
   ],
   "source": [
    "sample_data_2['Prediction'].value_counts()"
   ]
  },
  {
   "cell_type": "code",
   "execution_count": null,
   "metadata": {},
   "outputs": [],
   "source": []
  },
  {
   "cell_type": "code",
   "execution_count": null,
   "metadata": {},
   "outputs": [],
   "source": []
  },
  {
   "cell_type": "code",
   "execution_count": null,
   "metadata": {},
   "outputs": [],
   "source": []
  }
 ],
 "metadata": {
  "kernelspec": {
   "display_name": "Python 3",
   "language": "python",
   "name": "python3"
  },
  "language_info": {
   "codemirror_mode": {
    "name": "ipython",
    "version": 3
   },
   "file_extension": ".py",
   "mimetype": "text/x-python",
   "name": "python",
   "nbconvert_exporter": "python",
   "pygments_lexer": "ipython3",
   "version": "3.7.6"
  }
 },
 "nbformat": 4,
 "nbformat_minor": 2
}
